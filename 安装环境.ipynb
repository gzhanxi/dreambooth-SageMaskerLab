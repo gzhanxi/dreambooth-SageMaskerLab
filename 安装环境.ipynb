{
 "cells": [
  {
   "cell_type": "markdown",
   "id": "508ad1dd-bc20-4013-a587-cb4d6dc2a964",
   "metadata": {},
   "source": [
    "## 安装环境"
   ]
  },
  {
   "cell_type": "markdown",
   "id": "a77ad0bc-4582-4cdf-a6c2-4e18a7b784db",
   "metadata": {},
   "source": [
    "### 安装conda虚拟环境（可跳过）"
   ]
  },
  {
   "cell_type": "code",
   "execution_count": null,
   "id": "8af082cc-18c2-446e-8bf4-bf758d4c6d0d",
   "metadata": {},
   "outputs": [],
   "source": [
    "!conda create --name dreambooth python=3.10 -y\n",
    "!conda activate dreambooth\n",
    "!conda install ipykernel\n",
    "!ipython kernel install --user --name=dreambooth"
   ]
  },
  {
   "cell_type": "markdown",
   "id": "c2a08f62-dede-4ad2-86dc-038b1fed8ecb",
   "metadata": {},
   "source": [
    "### 安装依赖"
   ]
  },
  {
   "cell_type": "code",
   "execution_count": null,
   "id": "2f5e8ba7-7905-4250-8466-df02cf552411",
   "metadata": {},
   "outputs": [],
   "source": [
    "!pip install -U pip\n",
    "\n",
    "!pip install -qq git+https://github.com/ShivamShrirao/diffusers\n",
    "!pip install -qq -U --pre triton\n",
    "!pip install -qq accelerate==0.12.0 transformers ftfy bitsandbytes gradio omegaconf einops pytorch_lightning==1.7.7 pynvml"
   ]
  },
  {
   "cell_type": "markdown",
   "id": "f3e6ba8e-8fb5-4152-891c-6578e6738d6b",
   "metadata": {},
   "source": [
    "### 使用预编译的wheel安装xformers"
   ]
  },
  {
   "cell_type": "code",
   "execution_count": null,
   "id": "a5ca9a18-4a28-44ee-8774-ff7ea923d784",
   "metadata": {},
   "outputs": [],
   "source": [
    "!nvidia-smi"
   ]
  },
  {
   "cell_type": "code",
   "execution_count": null,
   "id": "b97e2cb1-ca02-4618-8d1e-7ed3bc6e6be9",
   "metadata": {},
   "outputs": [],
   "source": [
    "from subprocess import getoutput\n",
    "from IPython.display import HTML\n",
    "from IPython.display import clear_output\n",
    "import time\n",
    "\n",
    "s = getoutput('nvidia-smi')\n",
    "if 'T4' in s:\n",
    "  gpu = 'T4'\n",
    "elif 'P100' in s:\n",
    "  gpu = 'P100'\n",
    "elif 'V100' in s:\n",
    "  gpu = 'V100'\n",
    "elif 'A100' in s:\n",
    "  gpu = 'A100'\n",
    "\n",
    "while True:\n",
    "    try: \n",
    "        gpu=='T4'or gpu=='P100'or gpu=='V100'or gpu=='A100'\n",
    "        break\n",
    "    except:\n",
    "        pass\n",
    "    print('[1;31mit seems that your GPU is not supported at the moment')\n",
    "    time.sleep(5)\n",
    "\n",
    "if (gpu=='T4'):\n",
    "  # %pip install -qq https://github.com/TheLastBen/fast-stable-diffusion/raw/main/precompiled/T4/xformers-0.0.13.dev0-py3-none-any.whl\n",
    "  %pip install https://github.com/camenduru/stable-diffusion-webui-colab/releases/download/0.0.15/xformers-0.0.15.dev0+189828c.d20221207-cp38-cp38-linux_x86_64.whl\n",
    "  \n",
    "elif (gpu=='P100'):\n",
    "  %pip install -qq https://github.com/TheLastBen/fast-stable-diffusion/raw/main/precompiled/P100/xformers-0.0.13.dev0-py3-none-any.whl\n",
    "\n",
    "elif (gpu=='V100'):\n",
    "  %pip install -qq https://github.com/TheLastBen/fast-stable-diffusion/raw/main/precompiled/V100/xformers-0.0.13.dev0-py3-none-any.whl\n",
    "\n",
    "elif (gpu=='A100'):\n",
    "  # !curl -o xformers-0.0.15.dev0+189828c-py3-none-any.whl https://pub-2fdef7a2969f43289c42ac5ae3412fd4.r2.dev/xformers_0_0_15_dev0+189828c_d20221208_cp38_cp38_linux_x86_64.whl\n",
    "  # %pip install xformers-0.0.15.dev0+189828c-py3-none-any.whl\n",
    "  %pip install -qq https://github.com/TheLastBen/fast-stable-diffusion/raw/main/precompiled/A100/xformers-0.0.13.dev0-py3-none-any.whl  "
   ]
  },
  {
   "cell_type": "markdown",
   "id": "37dd0c33-5121-428f-a5f5-e42b032b0248",
   "metadata": {},
   "source": [
    "### 创建文件夹"
   ]
  },
  {
   "cell_type": "code",
   "execution_count": null,
   "id": "85b30e22-d49a-48ad-99da-c89f3a0dadef",
   "metadata": {},
   "outputs": [],
   "source": [
    "!ln -s /tmp ~/tmp\n",
    "!ln -s /opt/.sagemakerinternal/default ~/tmp2\n",
    "\n",
    "!mkdir ~/tmp/model-sd"
   ]
  }
 ],
 "metadata": {
  "kernelspec": {
   "display_name": "Python 3 (ipykernel)",
   "language": "python",
   "name": "python3"
  },
  "language_info": {
   "codemirror_mode": {
    "name": "ipython",
    "version": 3
   },
   "file_extension": ".py",
   "mimetype": "text/x-python",
   "name": "python",
   "nbconvert_exporter": "python",
   "pygments_lexer": "ipython3",
   "version": "3.9.16"
  }
 },
 "nbformat": 4,
 "nbformat_minor": 5
}
